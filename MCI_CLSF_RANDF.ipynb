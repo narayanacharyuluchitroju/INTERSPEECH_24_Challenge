{
 "cells": [
  {
   "cell_type": "code",
   "outputs": [],
   "source": [
    "import randf_model as model\n",
    "import pandas as pd\n",
    "import numpy as np"
   ],
   "metadata": {
    "collapsed": false,
    "ExecuteTime": {
     "end_time": "2024-02-26T17:43:08.140485Z",
     "start_time": "2024-02-26T17:43:08.135102Z"
    }
   },
   "id": "24bc3d37125872db",
   "execution_count": 7
  },
  {
   "cell_type": "code",
   "outputs": [],
   "source": [
    "# Example usage\n",
    "audio_directory = 'TAUKADIAL-24/train/'  # Replace with your actual directory path\n",
    "all_audio_features = model.process_audio_directory(audio_directory)"
   ],
   "metadata": {
    "collapsed": false,
    "is_executing": true,
    "ExecuteTime": {
     "start_time": "2024-02-26T17:43:09.134720Z"
    }
   },
   "id": "3d6c9a596db55a09",
   "execution_count": null
  },
  {
   "cell_type": "markdown",
   "source": [
    "### Load the processed data and Ground truth data into a dataframe"
   ],
   "metadata": {
    "collapsed": false
   },
   "id": "92d21afc17790cb1"
  },
  {
   "cell_type": "code",
   "outputs": [],
   "source": [
    "df1 = pd.DataFrame(all_audio_features)\n",
    "df1.rename(columns={0: 'tkdname', 1: 'mfccs', 2: 'chroma', 3: 'spectral_contrast', 4: 'spectral_rolloff', 5: 'zero_crossing_rate', 6: 'rmse'}, inplace=True)\n",
    "\n",
    "df2 = pd.read_csv('TAUKADIAL-24/train/groundtruth.csv')\n",
    "\n",
    "df = pd.merge(df1, df2, on='tkdname')\n",
    "df.to_csv('TAUKADIAL-24.csv')"
   ],
   "metadata": {
    "collapsed": false,
    "is_executing": true
   },
   "id": "4027ea93ffa7ec83",
   "execution_count": null
  },
  {
   "cell_type": "code",
   "outputs": [],
   "source": [
    "df.head()"
   ],
   "metadata": {
    "collapsed": false,
    "is_executing": true
   },
   "id": "71fb5df799c28521",
   "execution_count": null
  },
  {
   "cell_type": "code",
   "outputs": [],
   "source": [
    "data = df.copy()\n",
    "data.drop(columns=['tkdname'], inplace=True)\n",
    "data['mfccs'] = data['mfccs'].apply(lambda x: np.mean(x))\n",
    "data['chroma'] = data['chroma'].apply(lambda x: np.mean(x))\n",
    "data['spectral_contrast'] = data['spectral_contrast'].apply(lambda x: np.mean(x))\n",
    "\n",
    "\n",
    "data['sex'] = data['sex'].map({'M': 1, 'F': 0})\n",
    "\n",
    "data.drop_duplicates(inplace=True)\n",
    "data.groupby('dx').describe()"
   ],
   "metadata": {
    "collapsed": false,
    "is_executing": true
   },
   "id": "322274012eb11ba0",
   "execution_count": null
  },
  {
   "cell_type": "markdown",
   "source": [
    "### Train the model"
   ],
   "metadata": {
    "collapsed": false
   },
   "id": "46d735deee1c92e"
  },
  {
   "cell_type": "code",
   "outputs": [],
   "source": [
    "# Define features and target\n",
    "features = ['mfccs', 'chroma', 'spectral_contrast', 'spectral_rolloff', 'zero_crossing_rate', 'rmse', 'age', 'sex', 'mmse']\n",
    "target = 'dx'\n",
    "\n",
    "# Train the model\n",
    "trained_model, test_features, test_target = model.train_model(data, features, target)"
   ],
   "metadata": {
    "collapsed": false,
    "is_executing": true
   },
   "id": "b8ee7a31efa878a1",
   "execution_count": null
  },
  {
   "cell_type": "markdown",
   "source": [
    "### Evaluate the model"
   ],
   "metadata": {
    "collapsed": false
   },
   "id": "797e02af8a312031"
  },
  {
   "cell_type": "code",
   "outputs": [],
   "source": [
    "# Test the model\n",
    "ypred, ytest, report = model.test_model(trained_model, test_features, test_target)"
   ],
   "metadata": {
    "collapsed": false,
    "is_executing": true
   },
   "id": "8dfa74ed7c9fbe09",
   "execution_count": null
  },
  {
   "cell_type": "code",
   "outputs": [],
   "source": [
    "target_labels = ['MCI','NC']\n",
    "model.plot_confusion_matrix(ytest, ypred,target_labels)"
   ],
   "metadata": {
    "collapsed": false,
    "is_executing": true
   },
   "id": "16b074f054ba3204",
   "execution_count": null
  },
  {
   "cell_type": "code",
   "outputs": [],
   "source": [
    "import matplotlib.pyplot as plt\n",
    "\n",
    "features = ['mfccs', 'chroma', 'spectral_contrast', 'spectral_rolloff', 'zero_crossing_rate', 'rmse', 'age', 'sex', 'mmse']\n",
    "preprocessor = trained_model.named_steps['preprocessor']\n",
    "print(preprocessor.transformers_)\n",
    "\n",
    "\n",
    "importances = trained_model.named_steps['classifier'].feature_importances_\n",
    "\n",
    "\n",
    "indices = np.argsort(importances)[::-1]\n",
    "print(indices)\n",
    "plt.figure(figsize=(10, 6))\n",
    "plt.bar(range(len(features)), importances[indices], align='center')\n",
    "plt.xticks(range(len(features)), [features[i] for i in indices], rotation=45)\n",
    "plt.xlabel('Feature')\n",
    "plt.ylabel('Importance')\n",
    "plt.title('Feature Importance')\n",
    "plt.show()"
   ],
   "metadata": {
    "collapsed": false,
    "is_executing": true
   },
   "id": "a69d4d3add9c9fb0",
   "execution_count": null
  },
  {
   "cell_type": "code",
   "outputs": [],
   "source": [
    "report"
   ],
   "metadata": {
    "collapsed": false,
    "is_executing": true
   },
   "id": "50d99a8115651cca",
   "execution_count": null
  },
  {
   "cell_type": "code",
   "outputs": [],
   "source": [],
   "metadata": {
    "collapsed": false
   },
   "id": "1b3308903c65fbad"
  }
 ],
 "metadata": {
  "kernelspec": {
   "display_name": "Python 3",
   "language": "python",
   "name": "python3"
  },
  "language_info": {
   "codemirror_mode": {
    "name": "ipython",
    "version": 2
   },
   "file_extension": ".py",
   "mimetype": "text/x-python",
   "name": "python",
   "nbconvert_exporter": "python",
   "pygments_lexer": "ipython2",
   "version": "2.7.6"
  }
 },
 "nbformat": 4,
 "nbformat_minor": 5
}
