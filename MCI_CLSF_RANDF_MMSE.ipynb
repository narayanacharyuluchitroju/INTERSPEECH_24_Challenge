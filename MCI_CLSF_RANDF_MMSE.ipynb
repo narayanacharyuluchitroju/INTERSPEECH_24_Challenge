{
 "cells": [
  {
   "cell_type": "code",
   "outputs": [],
   "source": [
    "import randf_model as model\n",
    "import pandas as pd\n",
    "import numpy as np"
   ],
   "metadata": {
    "collapsed": false,
    "ExecuteTime": {
     "end_time": "2024-03-02T00:01:48.377875Z",
     "start_time": "2024-03-02T00:01:46.045869Z"
    }
   },
   "id": "24bc3d37125872db",
   "execution_count": 1
  },
  {
   "cell_type": "code",
   "outputs": [],
   "source": [
    "# Example usage\n",
    "audio_directory = 'TAUKADIAL-24/train/'  # Replace with your actual directory path\n",
    "all_audio_features = model.process_audio_directory(audio_directory)"
   ],
   "metadata": {
    "collapsed": false,
    "ExecuteTime": {
     "end_time": "2024-03-02T00:06:54.422082Z",
     "start_time": "2024-03-02T00:01:48.338463Z"
    }
   },
   "id": "3d6c9a596db55a09",
   "execution_count": 2
  },
  {
   "cell_type": "markdown",
   "source": [
    "### Load the processed data and Ground truth data into a dataframe"
   ],
   "metadata": {
    "collapsed": false
   },
   "id": "92d21afc17790cb1"
  },
  {
   "cell_type": "code",
   "outputs": [],
   "source": [
    "df1 = pd.DataFrame(all_audio_features)\n",
    "df1.rename(columns={0: 'tkdname', 1: 'mfccs', 2: 'chroma', 3: 'spectral_contrast', 4: 'spectral_rolloff', 5: 'zero_crossing_rate', 6: 'rmse'}, inplace=True)\n",
    "\n",
    "df2 = pd.read_csv('TAUKADIAL-24/train/groundtruth.csv')\n",
    "df2['sex'] = df2['sex'].map({'M': 1, 'F': 0})\n",
    "df = pd.merge(df1, df2, on='tkdname')\n",
    "df.to_csv('TAUKADIAL-24.csv')"
   ],
   "metadata": {
    "collapsed": false,
    "ExecuteTime": {
     "end_time": "2024-03-02T00:06:54.507538Z",
     "start_time": "2024-03-02T00:06:54.431617Z"
    }
   },
   "id": "4027ea93ffa7ec83",
   "execution_count": 3
  },
  {
   "cell_type": "code",
   "outputs": [
    {
     "data": {
      "text/plain": "              tkdname                                              mfccs  \\\n0  taukdial-109-1.wav  [-430.41904, 130.43205, 27.022755, 36.2068, -0...   \n1  taukdial-053-3.wav  [-471.56644, 95.3816, 42.543037, 24.282658, -3...   \n2  taukdial-051-1.wav  [-388.53183, 141.86292, 35.581978, 21.184015, ...   \n3  taukdial-014-1.wav  [-295.61603, 90.61048, -25.255726, 37.26282, -...   \n4  taukdial-032-2.wav  [-400.74396, 86.06941, -17.47101, 24.062902, 1...   \n\n                                              chroma  \\\n0  [0.53060824, 0.49707878, 0.43993297, 0.3798646...   \n1  [0.5325664, 0.44339445, 0.46366897, 0.4762177,...   \n2  [0.5623833, 0.45743582, 0.37826404, 0.36843395...   \n3  [0.29368737, 0.26871374, 0.28498656, 0.3593897...   \n4  [0.46204045, 0.44497553, 0.41617158, 0.3602271...   \n\n                                   spectral_contrast  spectral_rolloff  \\\n0  [20.284155622319712, 15.687091974219621, 18.90...       1871.617482   \n1  [21.536564255700505, 13.138538271322721, 15.82...       2898.405117   \n2  [15.9616963024241, 13.506451266528362, 16.3445...       1671.243210   \n3  [23.46122979051979, 16.569796770530886, 19.340...       3568.824647   \n4  [21.921714577214733, 15.83048484958038, 19.301...       3210.400251   \n\n   zero_crossing_rate      rmse  age  sex  mmse   dx  \n0            0.042134  0.027124   72    1    28  MCI  \n1            0.061045  0.026718   73    1    27  MCI  \n2            0.043425  0.037746   64    1    26  MCI  \n3            0.123242  0.066808   65    0    29  MCI  \n4            0.084233  0.030681   76    1    27  MCI  ",
      "text/html": "<div>\n<style scoped>\n    .dataframe tbody tr th:only-of-type {\n        vertical-align: middle;\n    }\n\n    .dataframe tbody tr th {\n        vertical-align: top;\n    }\n\n    .dataframe thead th {\n        text-align: right;\n    }\n</style>\n<table border=\"1\" class=\"dataframe\">\n  <thead>\n    <tr style=\"text-align: right;\">\n      <th></th>\n      <th>tkdname</th>\n      <th>mfccs</th>\n      <th>chroma</th>\n      <th>spectral_contrast</th>\n      <th>spectral_rolloff</th>\n      <th>zero_crossing_rate</th>\n      <th>rmse</th>\n      <th>age</th>\n      <th>sex</th>\n      <th>mmse</th>\n      <th>dx</th>\n    </tr>\n  </thead>\n  <tbody>\n    <tr>\n      <th>0</th>\n      <td>taukdial-109-1.wav</td>\n      <td>[-430.41904, 130.43205, 27.022755, 36.2068, -0...</td>\n      <td>[0.53060824, 0.49707878, 0.43993297, 0.3798646...</td>\n      <td>[20.284155622319712, 15.687091974219621, 18.90...</td>\n      <td>1871.617482</td>\n      <td>0.042134</td>\n      <td>0.027124</td>\n      <td>72</td>\n      <td>1</td>\n      <td>28</td>\n      <td>MCI</td>\n    </tr>\n    <tr>\n      <th>1</th>\n      <td>taukdial-053-3.wav</td>\n      <td>[-471.56644, 95.3816, 42.543037, 24.282658, -3...</td>\n      <td>[0.5325664, 0.44339445, 0.46366897, 0.4762177,...</td>\n      <td>[21.536564255700505, 13.138538271322721, 15.82...</td>\n      <td>2898.405117</td>\n      <td>0.061045</td>\n      <td>0.026718</td>\n      <td>73</td>\n      <td>1</td>\n      <td>27</td>\n      <td>MCI</td>\n    </tr>\n    <tr>\n      <th>2</th>\n      <td>taukdial-051-1.wav</td>\n      <td>[-388.53183, 141.86292, 35.581978, 21.184015, ...</td>\n      <td>[0.5623833, 0.45743582, 0.37826404, 0.36843395...</td>\n      <td>[15.9616963024241, 13.506451266528362, 16.3445...</td>\n      <td>1671.243210</td>\n      <td>0.043425</td>\n      <td>0.037746</td>\n      <td>64</td>\n      <td>1</td>\n      <td>26</td>\n      <td>MCI</td>\n    </tr>\n    <tr>\n      <th>3</th>\n      <td>taukdial-014-1.wav</td>\n      <td>[-295.61603, 90.61048, -25.255726, 37.26282, -...</td>\n      <td>[0.29368737, 0.26871374, 0.28498656, 0.3593897...</td>\n      <td>[23.46122979051979, 16.569796770530886, 19.340...</td>\n      <td>3568.824647</td>\n      <td>0.123242</td>\n      <td>0.066808</td>\n      <td>65</td>\n      <td>0</td>\n      <td>29</td>\n      <td>MCI</td>\n    </tr>\n    <tr>\n      <th>4</th>\n      <td>taukdial-032-2.wav</td>\n      <td>[-400.74396, 86.06941, -17.47101, 24.062902, 1...</td>\n      <td>[0.46204045, 0.44497553, 0.41617158, 0.3602271...</td>\n      <td>[21.921714577214733, 15.83048484958038, 19.301...</td>\n      <td>3210.400251</td>\n      <td>0.084233</td>\n      <td>0.030681</td>\n      <td>76</td>\n      <td>1</td>\n      <td>27</td>\n      <td>MCI</td>\n    </tr>\n  </tbody>\n</table>\n</div>"
     },
     "execution_count": 4,
     "metadata": {},
     "output_type": "execute_result"
    }
   ],
   "source": [
    "df.head()"
   ],
   "metadata": {
    "collapsed": false,
    "ExecuteTime": {
     "end_time": "2024-03-02T00:06:54.524186Z",
     "start_time": "2024-03-02T00:06:54.512643Z"
    }
   },
   "id": "71fb5df799c28521",
   "execution_count": 4
  },
  {
   "cell_type": "code",
   "outputs": [
    {
     "data": {
      "text/plain": "            mfccs      chroma  spectral_contrast  spectral_rolloff  \\\ncount  387.000000  387.000000         387.000000        387.000000   \nmean   -22.808437    0.402030          22.946647       2684.186555   \nstd      6.597464    0.064653           1.735153        729.883915   \nmin    -38.629704    0.286482          19.499623        857.973233   \n25%    -27.004293    0.352725          21.496536       2124.505285   \n50%    -23.612984    0.393913          22.933794       2657.252523   \n75%    -19.678061    0.441153          24.342754       3203.970415   \nmax     -4.704826    0.642019          26.970269       5595.820664   \n\n       zero_crossing_rate        rmse         age         sex        mmse  \ncount          387.000000  387.000000  387.000000  387.000000  387.000000  \nmean             0.077263    0.045579   72.720930    0.387597   27.217054  \nstd              0.031047    0.030630    6.398644    0.487832    3.321997  \nmin              0.014292    0.004294   61.000000    0.000000   13.000000  \n25%              0.054152    0.023260   68.000000    0.000000   27.000000  \n50%              0.076543    0.042473   73.000000    0.000000   28.000000  \n75%              0.100321    0.063621   77.000000    1.000000   29.000000  \nmax              0.158170    0.258234   87.000000    1.000000   30.000000  ",
      "text/html": "<div>\n<style scoped>\n    .dataframe tbody tr th:only-of-type {\n        vertical-align: middle;\n    }\n\n    .dataframe tbody tr th {\n        vertical-align: top;\n    }\n\n    .dataframe thead th {\n        text-align: right;\n    }\n</style>\n<table border=\"1\" class=\"dataframe\">\n  <thead>\n    <tr style=\"text-align: right;\">\n      <th></th>\n      <th>mfccs</th>\n      <th>chroma</th>\n      <th>spectral_contrast</th>\n      <th>spectral_rolloff</th>\n      <th>zero_crossing_rate</th>\n      <th>rmse</th>\n      <th>age</th>\n      <th>sex</th>\n      <th>mmse</th>\n    </tr>\n  </thead>\n  <tbody>\n    <tr>\n      <th>count</th>\n      <td>387.000000</td>\n      <td>387.000000</td>\n      <td>387.000000</td>\n      <td>387.000000</td>\n      <td>387.000000</td>\n      <td>387.000000</td>\n      <td>387.000000</td>\n      <td>387.000000</td>\n      <td>387.000000</td>\n    </tr>\n    <tr>\n      <th>mean</th>\n      <td>-22.808437</td>\n      <td>0.402030</td>\n      <td>22.946647</td>\n      <td>2684.186555</td>\n      <td>0.077263</td>\n      <td>0.045579</td>\n      <td>72.720930</td>\n      <td>0.387597</td>\n      <td>27.217054</td>\n    </tr>\n    <tr>\n      <th>std</th>\n      <td>6.597464</td>\n      <td>0.064653</td>\n      <td>1.735153</td>\n      <td>729.883915</td>\n      <td>0.031047</td>\n      <td>0.030630</td>\n      <td>6.398644</td>\n      <td>0.487832</td>\n      <td>3.321997</td>\n    </tr>\n    <tr>\n      <th>min</th>\n      <td>-38.629704</td>\n      <td>0.286482</td>\n      <td>19.499623</td>\n      <td>857.973233</td>\n      <td>0.014292</td>\n      <td>0.004294</td>\n      <td>61.000000</td>\n      <td>0.000000</td>\n      <td>13.000000</td>\n    </tr>\n    <tr>\n      <th>25%</th>\n      <td>-27.004293</td>\n      <td>0.352725</td>\n      <td>21.496536</td>\n      <td>2124.505285</td>\n      <td>0.054152</td>\n      <td>0.023260</td>\n      <td>68.000000</td>\n      <td>0.000000</td>\n      <td>27.000000</td>\n    </tr>\n    <tr>\n      <th>50%</th>\n      <td>-23.612984</td>\n      <td>0.393913</td>\n      <td>22.933794</td>\n      <td>2657.252523</td>\n      <td>0.076543</td>\n      <td>0.042473</td>\n      <td>73.000000</td>\n      <td>0.000000</td>\n      <td>28.000000</td>\n    </tr>\n    <tr>\n      <th>75%</th>\n      <td>-19.678061</td>\n      <td>0.441153</td>\n      <td>24.342754</td>\n      <td>3203.970415</td>\n      <td>0.100321</td>\n      <td>0.063621</td>\n      <td>77.000000</td>\n      <td>1.000000</td>\n      <td>29.000000</td>\n    </tr>\n    <tr>\n      <th>max</th>\n      <td>-4.704826</td>\n      <td>0.642019</td>\n      <td>26.970269</td>\n      <td>5595.820664</td>\n      <td>0.158170</td>\n      <td>0.258234</td>\n      <td>87.000000</td>\n      <td>1.000000</td>\n      <td>30.000000</td>\n    </tr>\n  </tbody>\n</table>\n</div>"
     },
     "execution_count": 5,
     "metadata": {},
     "output_type": "execute_result"
    }
   ],
   "source": [
    "data = df.copy()\n",
    "data.drop(columns=['tkdname'], inplace=True)\n",
    "data['mfccs'] = data['mfccs'].apply(lambda x: np.mean(x))\n",
    "data['chroma'] = data['chroma'].apply(lambda x: np.mean(x))\n",
    "data['spectral_contrast'] = data['spectral_contrast'].apply(lambda x: np.mean(x))\n",
    "\n",
    "data.describe()"
   ],
   "metadata": {
    "collapsed": false,
    "ExecuteTime": {
     "end_time": "2024-03-02T00:06:54.585898Z",
     "start_time": "2024-03-02T00:06:54.532668Z"
    }
   },
   "id": "322274012eb11ba0",
   "execution_count": 5
  },
  {
   "cell_type": "markdown",
   "source": [
    "### Train the model"
   ],
   "metadata": {
    "collapsed": false
   },
   "id": "46d735deee1c92e"
  },
  {
   "cell_type": "code",
   "outputs": [
    {
     "data": {
      "text/plain": "         mfccs    chroma  spectral_contrast  spectral_rolloff  \\\n314 -25.492636  0.370762          23.759002       2789.045983   \n152 -24.331806  0.494358          21.133586       2039.947410   \n90  -14.356266  0.466237          20.971501       1631.799776   \n266 -22.230061  0.346927          25.349095       2765.144414   \n208 -25.341377  0.351326          24.716431       2392.257254   \n\n     zero_crossing_rate      rmse  age  sex  \n314            0.073212  0.066418   72    1  \n152            0.035091  0.008695   73    0  \n90             0.031722  0.029961   74    0  \n266            0.114241  0.064421   68    1  \n208            0.089578  0.081837   79    1  ",
      "text/html": "<div>\n<style scoped>\n    .dataframe tbody tr th:only-of-type {\n        vertical-align: middle;\n    }\n\n    .dataframe tbody tr th {\n        vertical-align: top;\n    }\n\n    .dataframe thead th {\n        text-align: right;\n    }\n</style>\n<table border=\"1\" class=\"dataframe\">\n  <thead>\n    <tr style=\"text-align: right;\">\n      <th></th>\n      <th>mfccs</th>\n      <th>chroma</th>\n      <th>spectral_contrast</th>\n      <th>spectral_rolloff</th>\n      <th>zero_crossing_rate</th>\n      <th>rmse</th>\n      <th>age</th>\n      <th>sex</th>\n    </tr>\n  </thead>\n  <tbody>\n    <tr>\n      <th>314</th>\n      <td>-25.492636</td>\n      <td>0.370762</td>\n      <td>23.759002</td>\n      <td>2789.045983</td>\n      <td>0.073212</td>\n      <td>0.066418</td>\n      <td>72</td>\n      <td>1</td>\n    </tr>\n    <tr>\n      <th>152</th>\n      <td>-24.331806</td>\n      <td>0.494358</td>\n      <td>21.133586</td>\n      <td>2039.947410</td>\n      <td>0.035091</td>\n      <td>0.008695</td>\n      <td>73</td>\n      <td>0</td>\n    </tr>\n    <tr>\n      <th>90</th>\n      <td>-14.356266</td>\n      <td>0.466237</td>\n      <td>20.971501</td>\n      <td>1631.799776</td>\n      <td>0.031722</td>\n      <td>0.029961</td>\n      <td>74</td>\n      <td>0</td>\n    </tr>\n    <tr>\n      <th>266</th>\n      <td>-22.230061</td>\n      <td>0.346927</td>\n      <td>25.349095</td>\n      <td>2765.144414</td>\n      <td>0.114241</td>\n      <td>0.064421</td>\n      <td>68</td>\n      <td>1</td>\n    </tr>\n    <tr>\n      <th>208</th>\n      <td>-25.341377</td>\n      <td>0.351326</td>\n      <td>24.716431</td>\n      <td>2392.257254</td>\n      <td>0.089578</td>\n      <td>0.081837</td>\n      <td>79</td>\n      <td>1</td>\n    </tr>\n  </tbody>\n</table>\n</div>"
     },
     "execution_count": 6,
     "metadata": {},
     "output_type": "execute_result"
    }
   ],
   "source": [
    "# Define features and target\n",
    "features = ['mfccs', 'chroma', 'spectral_contrast', 'spectral_rolloff', 'zero_crossing_rate', 'rmse','age','sex']\n",
    "target = 'mmse'\n",
    "\n",
    "# Train the model\n",
    "trained_model, test_features, test_target = model.train_model(data, features, target,'model_reg_mmse.pkl')\n",
    "test_features.head()"
   ],
   "metadata": {
    "collapsed": false,
    "ExecuteTime": {
     "end_time": "2024-03-02T00:06:54.718656Z",
     "start_time": "2024-03-02T00:06:54.551147Z"
    }
   },
   "id": "b8ee7a31efa878a1",
   "execution_count": 6
  },
  {
   "cell_type": "markdown",
   "source": [
    "### Evaluate the model"
   ],
   "metadata": {
    "collapsed": false
   },
   "id": "797e02af8a312031"
  },
  {
   "cell_type": "code",
   "outputs": [
    {
     "name": "stdout",
     "output_type": "stream",
     "text": [
      "Actual vs. Predicted:\n",
      "29 29\n",
      "24 24\n",
      "30 28\n",
      "29 29\n",
      "28 28\n",
      "28 28\n",
      "24 24\n",
      "29 29\n",
      "26 26\n",
      "28 28\n",
      "18 18\n",
      "29 28\n",
      "13 13\n",
      "29 28\n",
      "25 29\n",
      "30 30\n",
      "28 27\n",
      "23 23\n",
      "30 30\n",
      "29 29\n",
      "28 28\n",
      "30 30\n",
      "29 29\n",
      "27 29\n",
      "29 29\n",
      "29 27\n",
      "29 29\n",
      "25 29\n",
      "30 30\n",
      "28 28\n",
      "23 23\n",
      "28 28\n",
      "30 30\n",
      "25 25\n",
      "29 29\n",
      "28 28\n",
      "28 30\n",
      "29 29\n",
      "28 26\n",
      "27 27\n",
      "28 27\n",
      "30 30\n",
      "30 30\n",
      "28 28\n",
      "29 29\n",
      "28 28\n",
      "26 27\n",
      "27 27\n",
      "30 30\n",
      "28 28\n",
      "17 24\n",
      "29 29\n",
      "28 29\n",
      "30 30\n",
      "27 30\n",
      "29 30\n",
      "17 17\n",
      "29 29\n",
      "16 19\n",
      "29 29\n",
      "29 29\n",
      "20 28\n",
      "28 28\n",
      "30 29\n",
      "29 29\n",
      "30 30\n",
      "30 29\n",
      "27 27\n",
      "30 30\n",
      "28 28\n",
      "28 29\n",
      "28 29\n",
      "29 29\n",
      "27 27\n",
      "30 28\n",
      "30 30\n",
      "20 26\n",
      "30 30\n",
      "Accuracy: 0.6923076923076923\n"
     ]
    },
    {
     "name": "stderr",
     "output_type": "stream",
     "text": [
      "/Users/raghavendrachitroju/Desktop/INTERSPEECH_24/INTERSPEECH_24_Challenge/.venv/lib/python3.11/site-packages/sklearn/metrics/_classification.py:1497: UndefinedMetricWarning: Precision is ill-defined and being set to 0.0 in labels with no predicted samples. Use `zero_division` parameter to control this behavior.\n",
      "  _warn_prf(average, modifier, f\"{metric.capitalize()} is\", len(result))\n",
      "/Users/raghavendrachitroju/Desktop/INTERSPEECH_24/INTERSPEECH_24_Challenge/.venv/lib/python3.11/site-packages/sklearn/metrics/_classification.py:1497: UndefinedMetricWarning: Recall is ill-defined and being set to 0.0 in labels with no true samples. Use `zero_division` parameter to control this behavior.\n",
      "  _warn_prf(average, modifier, f\"{metric.capitalize()} is\", len(result))\n",
      "/Users/raghavendrachitroju/Desktop/INTERSPEECH_24/INTERSPEECH_24_Challenge/.venv/lib/python3.11/site-packages/sklearn/metrics/_classification.py:1497: UndefinedMetricWarning: Precision is ill-defined and being set to 0.0 in labels with no predicted samples. Use `zero_division` parameter to control this behavior.\n",
      "  _warn_prf(average, modifier, f\"{metric.capitalize()} is\", len(result))\n",
      "/Users/raghavendrachitroju/Desktop/INTERSPEECH_24/INTERSPEECH_24_Challenge/.venv/lib/python3.11/site-packages/sklearn/metrics/_classification.py:1497: UndefinedMetricWarning: Recall is ill-defined and being set to 0.0 in labels with no true samples. Use `zero_division` parameter to control this behavior.\n",
      "  _warn_prf(average, modifier, f\"{metric.capitalize()} is\", len(result))\n",
      "/Users/raghavendrachitroju/Desktop/INTERSPEECH_24/INTERSPEECH_24_Challenge/.venv/lib/python3.11/site-packages/sklearn/metrics/_classification.py:1497: UndefinedMetricWarning: Precision is ill-defined and being set to 0.0 in labels with no predicted samples. Use `zero_division` parameter to control this behavior.\n",
      "  _warn_prf(average, modifier, f\"{metric.capitalize()} is\", len(result))\n",
      "/Users/raghavendrachitroju/Desktop/INTERSPEECH_24/INTERSPEECH_24_Challenge/.venv/lib/python3.11/site-packages/sklearn/metrics/_classification.py:1497: UndefinedMetricWarning: Recall is ill-defined and being set to 0.0 in labels with no true samples. Use `zero_division` parameter to control this behavior.\n",
      "  _warn_prf(average, modifier, f\"{metric.capitalize()} is\", len(result))\n"
     ]
    }
   ],
   "source": [
    "# Test the model\n",
    "ypred, ytest, report = model.test_model(trained_model, test_features, test_target)"
   ],
   "metadata": {
    "collapsed": false,
    "ExecuteTime": {
     "end_time": "2024-03-02T00:06:54.741296Z",
     "start_time": "2024-03-02T00:06:54.713443Z"
    }
   },
   "id": "8dfa74ed7c9fbe09",
   "execution_count": 7
  },
  {
   "cell_type": "code",
   "outputs": [
    {
     "ename": "ValueError",
     "evalue": "At least one label specified must be in y_true",
     "output_type": "error",
     "traceback": [
      "\u001B[0;31m---------------------------------------------------------------------------\u001B[0m",
      "\u001B[0;31mValueError\u001B[0m                                Traceback (most recent call last)",
      "Cell \u001B[0;32mIn[8], line 2\u001B[0m\n\u001B[1;32m      1\u001B[0m target_labels \u001B[38;5;241m=\u001B[39m [\u001B[38;5;124m'\u001B[39m\u001B[38;5;124mMCI\u001B[39m\u001B[38;5;124m'\u001B[39m,\u001B[38;5;124m'\u001B[39m\u001B[38;5;124mNC\u001B[39m\u001B[38;5;124m'\u001B[39m]\n\u001B[0;32m----> 2\u001B[0m \u001B[43mmodel\u001B[49m\u001B[38;5;241;43m.\u001B[39;49m\u001B[43mplot_confusion_matrix\u001B[49m\u001B[43m(\u001B[49m\u001B[43mytest\u001B[49m\u001B[43m,\u001B[49m\u001B[43m \u001B[49m\u001B[43mypred\u001B[49m\u001B[43m,\u001B[49m\u001B[43mtarget_labels\u001B[49m\u001B[43m)\u001B[49m\n",
      "File \u001B[0;32m~/Desktop/INTERSPEECH_24/INTERSPEECH_24_Challenge/randf_model.py:104\u001B[0m, in \u001B[0;36mplot_confusion_matrix\u001B[0;34m(y_true, y_pred, labels)\u001B[0m\n\u001B[1;32m    103\u001B[0m \u001B[38;5;28;01mdef\u001B[39;00m \u001B[38;5;21mplot_confusion_matrix\u001B[39m(y_true, y_pred, labels):\n\u001B[0;32m--> 104\u001B[0m     cm \u001B[38;5;241m=\u001B[39m \u001B[43mconfusion_matrix\u001B[49m\u001B[43m(\u001B[49m\u001B[43my_true\u001B[49m\u001B[43m,\u001B[49m\u001B[43m \u001B[49m\u001B[43my_pred\u001B[49m\u001B[43m,\u001B[49m\u001B[43m \u001B[49m\u001B[43mlabels\u001B[49m\u001B[38;5;241;43m=\u001B[39;49m\u001B[43mlabels\u001B[49m\u001B[43m)\u001B[49m\n\u001B[1;32m    105\u001B[0m     plt\u001B[38;5;241m.\u001B[39mfigure(figsize\u001B[38;5;241m=\u001B[39m(\u001B[38;5;241m8\u001B[39m, \u001B[38;5;241m6\u001B[39m))\n\u001B[1;32m    106\u001B[0m     sns\u001B[38;5;241m.\u001B[39mheatmap(cm, annot\u001B[38;5;241m=\u001B[39m\u001B[38;5;28;01mTrue\u001B[39;00m, fmt\u001B[38;5;241m=\u001B[39m\u001B[38;5;124m'\u001B[39m\u001B[38;5;124md\u001B[39m\u001B[38;5;124m'\u001B[39m, cmap\u001B[38;5;241m=\u001B[39m\u001B[38;5;124m'\u001B[39m\u001B[38;5;124mBlues\u001B[39m\u001B[38;5;124m'\u001B[39m, xticklabels\u001B[38;5;241m=\u001B[39mlabels, yticklabels\u001B[38;5;241m=\u001B[39mlabels)\n",
      "File \u001B[0;32m~/Desktop/INTERSPEECH_24/INTERSPEECH_24_Challenge/.venv/lib/python3.11/site-packages/sklearn/utils/_param_validation.py:213\u001B[0m, in \u001B[0;36mvalidate_params.<locals>.decorator.<locals>.wrapper\u001B[0;34m(*args, **kwargs)\u001B[0m\n\u001B[1;32m    207\u001B[0m \u001B[38;5;28;01mtry\u001B[39;00m:\n\u001B[1;32m    208\u001B[0m     \u001B[38;5;28;01mwith\u001B[39;00m config_context(\n\u001B[1;32m    209\u001B[0m         skip_parameter_validation\u001B[38;5;241m=\u001B[39m(\n\u001B[1;32m    210\u001B[0m             prefer_skip_nested_validation \u001B[38;5;129;01mor\u001B[39;00m global_skip_validation\n\u001B[1;32m    211\u001B[0m         )\n\u001B[1;32m    212\u001B[0m     ):\n\u001B[0;32m--> 213\u001B[0m         \u001B[38;5;28;01mreturn\u001B[39;00m \u001B[43mfunc\u001B[49m\u001B[43m(\u001B[49m\u001B[38;5;241;43m*\u001B[39;49m\u001B[43margs\u001B[49m\u001B[43m,\u001B[49m\u001B[43m \u001B[49m\u001B[38;5;241;43m*\u001B[39;49m\u001B[38;5;241;43m*\u001B[39;49m\u001B[43mkwargs\u001B[49m\u001B[43m)\u001B[49m\n\u001B[1;32m    214\u001B[0m \u001B[38;5;28;01mexcept\u001B[39;00m InvalidParameterError \u001B[38;5;28;01mas\u001B[39;00m e:\n\u001B[1;32m    215\u001B[0m     \u001B[38;5;66;03m# When the function is just a wrapper around an estimator, we allow\u001B[39;00m\n\u001B[1;32m    216\u001B[0m     \u001B[38;5;66;03m# the function to delegate validation to the estimator, but we replace\u001B[39;00m\n\u001B[1;32m    217\u001B[0m     \u001B[38;5;66;03m# the name of the estimator by the name of the function in the error\u001B[39;00m\n\u001B[1;32m    218\u001B[0m     \u001B[38;5;66;03m# message to avoid confusion.\u001B[39;00m\n\u001B[1;32m    219\u001B[0m     msg \u001B[38;5;241m=\u001B[39m re\u001B[38;5;241m.\u001B[39msub(\n\u001B[1;32m    220\u001B[0m         \u001B[38;5;124mr\u001B[39m\u001B[38;5;124m\"\u001B[39m\u001B[38;5;124mparameter of \u001B[39m\u001B[38;5;124m\\\u001B[39m\u001B[38;5;124mw+ must be\u001B[39m\u001B[38;5;124m\"\u001B[39m,\n\u001B[1;32m    221\u001B[0m         \u001B[38;5;124mf\u001B[39m\u001B[38;5;124m\"\u001B[39m\u001B[38;5;124mparameter of \u001B[39m\u001B[38;5;132;01m{\u001B[39;00mfunc\u001B[38;5;241m.\u001B[39m\u001B[38;5;18m__qualname__\u001B[39m\u001B[38;5;132;01m}\u001B[39;00m\u001B[38;5;124m must be\u001B[39m\u001B[38;5;124m\"\u001B[39m,\n\u001B[1;32m    222\u001B[0m         \u001B[38;5;28mstr\u001B[39m(e),\n\u001B[1;32m    223\u001B[0m     )\n",
      "File \u001B[0;32m~/Desktop/INTERSPEECH_24/INTERSPEECH_24_Challenge/.venv/lib/python3.11/site-packages/sklearn/metrics/_classification.py:333\u001B[0m, in \u001B[0;36mconfusion_matrix\u001B[0;34m(y_true, y_pred, labels, sample_weight, normalize)\u001B[0m\n\u001B[1;32m    331\u001B[0m         \u001B[38;5;28;01mreturn\u001B[39;00m np\u001B[38;5;241m.\u001B[39mzeros((n_labels, n_labels), dtype\u001B[38;5;241m=\u001B[39m\u001B[38;5;28mint\u001B[39m)\n\u001B[1;32m    332\u001B[0m     \u001B[38;5;28;01melif\u001B[39;00m \u001B[38;5;28mlen\u001B[39m(np\u001B[38;5;241m.\u001B[39mintersect1d(y_true, labels)) \u001B[38;5;241m==\u001B[39m \u001B[38;5;241m0\u001B[39m:\n\u001B[0;32m--> 333\u001B[0m         \u001B[38;5;28;01mraise\u001B[39;00m \u001B[38;5;167;01mValueError\u001B[39;00m(\u001B[38;5;124m\"\u001B[39m\u001B[38;5;124mAt least one label specified must be in y_true\u001B[39m\u001B[38;5;124m\"\u001B[39m)\n\u001B[1;32m    335\u001B[0m \u001B[38;5;28;01mif\u001B[39;00m sample_weight \u001B[38;5;129;01mis\u001B[39;00m \u001B[38;5;28;01mNone\u001B[39;00m:\n\u001B[1;32m    336\u001B[0m     sample_weight \u001B[38;5;241m=\u001B[39m np\u001B[38;5;241m.\u001B[39mones(y_true\u001B[38;5;241m.\u001B[39mshape[\u001B[38;5;241m0\u001B[39m], dtype\u001B[38;5;241m=\u001B[39mnp\u001B[38;5;241m.\u001B[39mint64)\n",
      "\u001B[0;31mValueError\u001B[0m: At least one label specified must be in y_true"
     ]
    }
   ],
   "source": [
    "target_labels = ['MCI','NC']\n",
    "model.plot_confusion_matrix(ytest, ypred,target_labels)"
   ],
   "metadata": {
    "collapsed": false,
    "ExecuteTime": {
     "end_time": "2024-03-02T00:06:55.061329Z",
     "start_time": "2024-03-02T00:06:54.729033Z"
    }
   },
   "id": "16b074f054ba3204",
   "execution_count": 8
  },
  {
   "cell_type": "markdown",
   "source": [],
   "metadata": {
    "collapsed": false
   },
   "id": "e735e8595a37f784"
  },
  {
   "cell_type": "code",
   "outputs": [],
   "source": [
    "import matplotlib.pyplot as plt\n",
    "\n",
    "features = ['mfccs', 'chroma', 'spectral_contrast', 'spectral_rolloff', 'zero_crossing_rate', 'rmse','age','sex']\n",
    "preprocessor = trained_model.named_steps['preprocessor']\n",
    "print(preprocessor.transformers_)\n",
    "\n",
    "\n",
    "importances = trained_model.named_steps['classifier'].feature_importances_\n",
    "\n",
    "\n",
    "indices = np.argsort(importances)[::-1]\n",
    "print(indices)\n",
    "plt.figure(figsize=(10, 6))\n",
    "plt.bar(range(len(features)), importances[indices], align='center')\n",
    "plt.xticks(range(len(features)), [features[i] for i in indices], rotation=45)\n",
    "plt.xlabel('Feature')\n",
    "plt.ylabel('Importance')\n",
    "plt.title('Feature Importance')\n",
    "plt.show()"
   ],
   "metadata": {
    "collapsed": false,
    "ExecuteTime": {
     "end_time": "2024-03-02T00:06:55.065402Z",
     "start_time": "2024-03-02T00:06:55.062909Z"
    }
   },
   "id": "a69d4d3add9c9fb0",
   "execution_count": null
  },
  {
   "cell_type": "code",
   "outputs": [],
   "source": [
    "report"
   ],
   "metadata": {
    "collapsed": false,
    "ExecuteTime": {
     "start_time": "2024-03-02T00:06:55.063900Z"
    }
   },
   "id": "50d99a8115651cca",
   "execution_count": null
  },
  {
   "cell_type": "code",
   "outputs": [],
   "source": [],
   "metadata": {
    "collapsed": false
   },
   "id": "1b3308903c65fbad"
  }
 ],
 "metadata": {
  "kernelspec": {
   "display_name": "Python 3",
   "language": "python",
   "name": "python3"
  },
  "language_info": {
   "codemirror_mode": {
    "name": "ipython",
    "version": 2
   },
   "file_extension": ".py",
   "mimetype": "text/x-python",
   "name": "python",
   "nbconvert_exporter": "python",
   "pygments_lexer": "ipython2",
   "version": "2.7.6"
  }
 },
 "nbformat": 4,
 "nbformat_minor": 5
}
