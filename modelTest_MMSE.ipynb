{
 "cells": [
  {
   "cell_type": "code",
   "outputs": [],
   "source": [
    "import pandas as pd\n",
    "import numpy as np\n",
    "import joblib\n",
    "import randf_model as model"
   ],
   "metadata": {
    "collapsed": false,
    "ExecuteTime": {
     "end_time": "2024-03-01T23:48:26.469258Z",
     "start_time": "2024-03-01T23:48:26.443341Z"
    }
   },
   "id": "5582115c378834ff",
   "execution_count": 6
  },
  {
   "cell_type": "code",
   "outputs": [],
   "source": [
    "# Load the trained model\n",
    "trained_model = joblib.load('saved_models/rf_model.pkl')"
   ],
   "metadata": {
    "collapsed": false,
    "ExecuteTime": {
     "end_time": "2024-03-01T23:48:26.872808Z",
     "start_time": "2024-03-01T23:48:26.842105Z"
    }
   },
   "id": "738ca533863f3f0f",
   "execution_count": 7
  },
  {
   "cell_type": "code",
   "execution_count": 2,
   "id": "initial_id",
   "metadata": {
    "collapsed": true,
    "ExecuteTime": {
     "end_time": "2024-03-01T23:47:41.982264Z",
     "start_time": "2024-03-01T23:46:36.790611Z"
    }
   },
   "outputs": [],
   "source": [
    "# Example usage\n",
    "audio_directory = 'TAUKADIAL-24/test/'  # Replace with your actual directory path\n",
    "all_audio_features = model.process_audio_directory(audio_directory)"
   ]
  },
  {
   "cell_type": "code",
   "outputs": [],
   "source": [
    "df1 = pd.DataFrame(all_audio_features)\n",
    "df1.rename(columns={0: 'tkdname', 1: 'mfccs', 2: 'chroma', 3: 'spectral_contrast', 4: 'spectral_rolloff', 5: 'zero_crossing_rate', 6: 'rmse'}, inplace=True)\n",
    "\n",
    "df2 = pd.read_csv('TAUKADIAL-24/test/meta_test.csv')\n",
    "df2['sex'] = df2['sex'].map({'M': 1, 'F': 0})\n",
    "df = pd.merge(df1, df2, on='tkdname')\n",
    "df.to_csv('TAUKADIAL-24.csv')"
   ],
   "metadata": {
    "collapsed": false,
    "ExecuteTime": {
     "end_time": "2024-03-01T23:48:32.245629Z",
     "start_time": "2024-03-01T23:48:32.209784Z"
    }
   },
   "id": "f0ef5297a4d60884",
   "execution_count": 8
  },
  {
   "cell_type": "code",
   "outputs": [
    {
     "data": {
      "text/plain": "            mfccs      chroma  spectral_contrast  spectral_rolloff  \\\ncount  120.000000  120.000000         120.000000        120.000000   \nmean   -21.435429    0.412017          22.662758       2634.968767   \nstd      6.237987    0.064513           1.789310        753.607135   \nmin    -36.972282    0.296590          18.703318        975.716400   \n25%    -25.734166    0.367982          21.182374       2127.369286   \n50%    -22.282395    0.404000          22.556383       2642.597219   \n75%    -17.698178    0.450488          24.268048       3142.097783   \nmax     -7.687820    0.593931          26.809025       4869.959112   \n\n       zero_crossing_rate        rmse         age        sex  \ncount          120.000000  120.000000  120.000000  120.00000  \nmean             0.074379    0.040802   73.050000    0.45000  \nstd              0.032961    0.022715    8.961964    0.49958  \nmin              0.018364    0.008110   59.000000    0.00000  \n25%              0.053849    0.019038   66.000000    0.00000  \n50%              0.073623    0.039428   70.000000    0.00000  \n75%              0.095854    0.060527   79.500000    1.00000  \nmax              0.192011    0.098558   91.000000    1.00000  ",
      "text/html": "<div>\n<style scoped>\n    .dataframe tbody tr th:only-of-type {\n        vertical-align: middle;\n    }\n\n    .dataframe tbody tr th {\n        vertical-align: top;\n    }\n\n    .dataframe thead th {\n        text-align: right;\n    }\n</style>\n<table border=\"1\" class=\"dataframe\">\n  <thead>\n    <tr style=\"text-align: right;\">\n      <th></th>\n      <th>mfccs</th>\n      <th>chroma</th>\n      <th>spectral_contrast</th>\n      <th>spectral_rolloff</th>\n      <th>zero_crossing_rate</th>\n      <th>rmse</th>\n      <th>age</th>\n      <th>sex</th>\n    </tr>\n  </thead>\n  <tbody>\n    <tr>\n      <th>count</th>\n      <td>120.000000</td>\n      <td>120.000000</td>\n      <td>120.000000</td>\n      <td>120.000000</td>\n      <td>120.000000</td>\n      <td>120.000000</td>\n      <td>120.000000</td>\n      <td>120.00000</td>\n    </tr>\n    <tr>\n      <th>mean</th>\n      <td>-21.435429</td>\n      <td>0.412017</td>\n      <td>22.662758</td>\n      <td>2634.968767</td>\n      <td>0.074379</td>\n      <td>0.040802</td>\n      <td>73.050000</td>\n      <td>0.45000</td>\n    </tr>\n    <tr>\n      <th>std</th>\n      <td>6.237987</td>\n      <td>0.064513</td>\n      <td>1.789310</td>\n      <td>753.607135</td>\n      <td>0.032961</td>\n      <td>0.022715</td>\n      <td>8.961964</td>\n      <td>0.49958</td>\n    </tr>\n    <tr>\n      <th>min</th>\n      <td>-36.972282</td>\n      <td>0.296590</td>\n      <td>18.703318</td>\n      <td>975.716400</td>\n      <td>0.018364</td>\n      <td>0.008110</td>\n      <td>59.000000</td>\n      <td>0.00000</td>\n    </tr>\n    <tr>\n      <th>25%</th>\n      <td>-25.734166</td>\n      <td>0.367982</td>\n      <td>21.182374</td>\n      <td>2127.369286</td>\n      <td>0.053849</td>\n      <td>0.019038</td>\n      <td>66.000000</td>\n      <td>0.00000</td>\n    </tr>\n    <tr>\n      <th>50%</th>\n      <td>-22.282395</td>\n      <td>0.404000</td>\n      <td>22.556383</td>\n      <td>2642.597219</td>\n      <td>0.073623</td>\n      <td>0.039428</td>\n      <td>70.000000</td>\n      <td>0.00000</td>\n    </tr>\n    <tr>\n      <th>75%</th>\n      <td>-17.698178</td>\n      <td>0.450488</td>\n      <td>24.268048</td>\n      <td>3142.097783</td>\n      <td>0.095854</td>\n      <td>0.060527</td>\n      <td>79.500000</td>\n      <td>1.00000</td>\n    </tr>\n    <tr>\n      <th>max</th>\n      <td>-7.687820</td>\n      <td>0.593931</td>\n      <td>26.809025</td>\n      <td>4869.959112</td>\n      <td>0.192011</td>\n      <td>0.098558</td>\n      <td>91.000000</td>\n      <td>1.00000</td>\n    </tr>\n  </tbody>\n</table>\n</div>"
     },
     "execution_count": 9,
     "metadata": {},
     "output_type": "execute_result"
    }
   ],
   "source": [
    "data = df.copy()\n",
    "data['mfccs'] = data['mfccs'].apply(lambda x: np.mean(x))\n",
    "data['chroma'] = data['chroma'].apply(lambda x: np.mean(x))\n",
    "data['spectral_contrast'] = data['spectral_contrast'].apply(lambda x: np.mean(x))\n",
    "\n",
    "data.describe()"
   ],
   "metadata": {
    "collapsed": false,
    "ExecuteTime": {
     "end_time": "2024-03-01T23:48:33.083199Z",
     "start_time": "2024-03-01T23:48:33.077305Z"
    }
   },
   "id": "e1d068ff344acd07",
   "execution_count": 9
  },
  {
   "cell_type": "code",
   "outputs": [
    {
     "name": "stdout",
     "output_type": "stream",
     "text": [
      "taukdial-016-3.wav : 30\n",
      "taukdial-029-1.wav : 25\n",
      "taukdial-155-1.wav : 29\n",
      "taukdial-168-1.wav : 30\n",
      "taukdial-075-1.wav : 30\n",
      "taukdial-016-2.wav : 30\n",
      "taukdial-075-3.wav : 30\n",
      "taukdial-168-3.wav : 26\n",
      "taukdial-029-2.wav : 27\n",
      "taukdial-155-3.wav : 29\n",
      "taukdial-155-2.wav : 29\n",
      "taukdial-029-3.wav : 27\n",
      "taukdial-168-2.wav : 26\n",
      "taukdial-016-1.wav : 30\n",
      "taukdial-075-2.wav : 30\n",
      "taukdial-114-2.wav : 27\n",
      "taukdial-012-1.wav : 29\n",
      "taukdial-034-2.wav : 30\n",
      "taukdial-010-3.wav : 29\n",
      "taukdial-055-3.wav : 17\n",
      "taukdial-036-1.wav : 30\n",
      "taukdial-010-2.wav : 29\n",
      "taukdial-055-2.wav : 17\n",
      "taukdial-034-3.wav : 27\n",
      "taukdial-114-3.wav : 30\n",
      "taukdial-114-1.wav : 27\n",
      "taukdial-034-1.wav : 30\n",
      "taukdial-012-2.wav : 29\n",
      "taukdial-036-3.wav : 27\n",
      "taukdial-055-1.wav : 27\n",
      "taukdial-010-1.wav : 29\n",
      "taukdial-036-2.wav : 30\n",
      "taukdial-012-3.wav : 29\n",
      "taukdial-049-3.wav : 23\n",
      "taukdial-135-2.wav : 29\n",
      "taukdial-028-2.wav : 27\n",
      "taukdial-033-1.wav : 30\n",
      "taukdial-017-1.wav : 29\n",
      "taukdial-028-3.wav : 27\n",
      "taukdial-135-3.wav : 29\n",
      "taukdial-049-2.wav : 24\n",
      "taukdial-135-1.wav : 29\n",
      "taukdial-028-1.wav : 27\n",
      "taukdial-033-2.wav : 30\n",
      "taukdial-017-3.wav : 29\n",
      "taukdial-017-2.wav : 29\n",
      "taukdial-033-3.wav : 27\n",
      "taukdial-049-1.wav : 23\n",
      "taukdial-013-2.wav : 29\n",
      "taukdial-152-3.wav : 29\n",
      "taukdial-133-2.wav : 27\n",
      "taukdial-150-1.wav : 27\n",
      "taukdial-133-3.wav : 30\n",
      "taukdial-152-2.wav : 29\n",
      "taukdial-013-3.wav : 29\n",
      "taukdial-013-1.wav : 29\n",
      "taukdial-150-2.wav : 26\n",
      "taukdial-133-1.wav : 27\n",
      "taukdial-150-3.wav : 27\n",
      "taukdial-152-1.wav : 29\n",
      "taukdial-081-3.wav : 30\n",
      "taukdial-058-2.wav : 29\n",
      "taukdial-119-3.wav : 29\n",
      "taukdial-043-1.wav : 29\n",
      "taukdial-022-1.wav : 30\n",
      "taukdial-119-2.wav : 29\n",
      "taukdial-147-1.wav : 29\n",
      "taukdial-058-3.wav : 29\n",
      "taukdial-081-2.wav : 30\n",
      "taukdial-058-1.wav : 29\n",
      "taukdial-147-3.wav : 29\n",
      "taukdial-043-2.wav : 29\n",
      "taukdial-022-3.wav : 29\n",
      "taukdial-022-2.wav : 27\n",
      "taukdial-043-3.wav : 28\n",
      "taukdial-119-1.wav : 29\n",
      "taukdial-147-2.wav : 29\n",
      "taukdial-081-1.wav : 30\n",
      "taukdial-087-3.wav : 30\n",
      "taukdial-087-2.wav : 25\n",
      "taukdial-019-1.wav : 23\n",
      "taukdial-061-1.wav : 28\n",
      "taukdial-061-3.wav : 28\n",
      "taukdial-019-3.wav : 27\n",
      "taukdial-087-1.wav : 30\n",
      "taukdial-019-2.wav : 23\n",
      "taukdial-061-2.wav : 28\n",
      "taukdial-042-2.wav : 24\n",
      "taukdial-059-1.wav : 29\n",
      "taukdial-103-3.wav : 30\n",
      "taukdial-146-3.wav : 29\n",
      "taukdial-103-2.wav : 30\n",
      "taukdial-146-2.wav : 29\n",
      "taukdial-042-3.wav : 24\n",
      "taukdial-042-1.wav : 24\n",
      "taukdial-059-2.wav : 29\n",
      "taukdial-146-1.wav : 27\n",
      "taukdial-103-1.wav : 30\n",
      "taukdial-059-3.wav : 29\n",
      "taukdial-018-3.wav : 27\n",
      "taukdial-084-2.wav : 29\n",
      "taukdial-001-2.wav : 19\n",
      "taukdial-062-1.wav : 27\n",
      "taukdial-060-3.wav : 30\n",
      "taukdial-060-2.wav : 30\n",
      "taukdial-001-3.wav : 19\n",
      "taukdial-084-3.wav : 29\n",
      "taukdial-166-1.wav : 27\n",
      "taukdial-123-1.wav : 29\n",
      "taukdial-018-2.wav : 27\n",
      "taukdial-123-3.wav : 29\n",
      "taukdial-166-3.wav : 27\n",
      "taukdial-084-1.wav : 29\n",
      "taukdial-062-2.wav : 28\n",
      "taukdial-001-1.wav : 19\n",
      "taukdial-060-1.wav : 29\n",
      "taukdial-062-3.wav : 27\n",
      "taukdial-123-2.wav : 29\n",
      "taukdial-166-2.wav : 28\n",
      "taukdial-018-1.wav : 27\n"
     ]
    }
   ],
   "source": [
    "features = ['mfccs', 'chroma', 'spectral_contrast', 'spectral_rolloff', 'zero_crossing_rate', 'rmse','age','sex']\n",
    "target = 'mmse'\n",
    "\n",
    "predicted = trained_model.predict(data[features])\n",
    "\n",
    "\n",
    "for name, prediction in zip(data['tkdname'], predicted):\n",
    "    print(f\"{name} : {prediction}\")"
   ],
   "metadata": {
    "collapsed": false,
    "ExecuteTime": {
     "end_time": "2024-03-01T23:48:34.528027Z",
     "start_time": "2024-03-01T23:48:34.517409Z"
    }
   },
   "id": "7bba425396498450",
   "execution_count": 10
  },
  {
   "cell_type": "code",
   "outputs": [],
   "source": [],
   "metadata": {
    "collapsed": false
   },
   "id": "1d988894ec6ea6eb"
  }
 ],
 "metadata": {
  "kernelspec": {
   "display_name": "Python 3",
   "language": "python",
   "name": "python3"
  },
  "language_info": {
   "codemirror_mode": {
    "name": "ipython",
    "version": 2
   },
   "file_extension": ".py",
   "mimetype": "text/x-python",
   "name": "python",
   "nbconvert_exporter": "python",
   "pygments_lexer": "ipython2",
   "version": "2.7.6"
  }
 },
 "nbformat": 4,
 "nbformat_minor": 5
}
